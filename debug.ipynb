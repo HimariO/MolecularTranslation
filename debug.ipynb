{
 "cells": [
  {
   "cell_type": "code",
   "execution_count": 6,
   "id": "approved-norwegian",
   "metadata": {},
   "outputs": [],
   "source": [
    "import torch\n",
    "import torchvision as tv\n",
    "import matplotlib.pyplot as plt\n",
    "from torch.utils.data import DataLoader\n",
    "from loguru import logger\n",
    "from model.efficientnet.net import EfficientNet\n",
    "from tokenizers import Tokenizer\n",
    "\n",
    "from dataset import bms_caption, collator"
   ]
  },
  {
   "cell_type": "code",
   "execution_count": 25,
   "id": "liable-iraqi",
   "metadata": {},
   "outputs": [
    {
     "name": "stderr",
     "output_type": "stream",
     "text": [
      "2021-04-17 20:31:46.061 | INFO     | dataset.bms_caption:get_samples:55 - [EncodedBBMS] get_samples\n",
      "2021-04-17 20:31:56.031 | INFO     | dataset.bms_caption:get_samples:58 - [EncodedBBMS] find 2414826 imgs\n",
      "2021-04-17 20:31:56.031 | INFO     | dataset.bms_caption:get_samples:64 - Load cached dataset samples from: /home/ron/bms_tmp/2414826.pickle\n"
     ]
    },
    {
     "name": "stdout",
     "output_type": "stream",
     "text": [
      "2414826\n",
      "(tensor([[[255, 255, 255],\n",
      "         [255, 255, 255],\n",
      "         [255, 255, 255],\n",
      "         ...,\n",
      "         [255, 255, 255],\n",
      "         [255, 255, 255],\n",
      "         [255, 255, 255]],\n",
      "\n",
      "        [[255, 255, 255],\n",
      "         [255, 255, 255],\n",
      "         [255, 255, 255],\n",
      "         ...,\n",
      "         [255, 255, 255],\n",
      "         [255, 255, 255],\n",
      "         [255, 255, 255]],\n",
      "\n",
      "        [[255, 255, 255],\n",
      "         [255, 255, 255],\n",
      "         [255, 255, 255],\n",
      "         ...,\n",
      "         [255, 255, 255],\n",
      "         [255, 255, 255],\n",
      "         [255, 255, 255]],\n",
      "\n",
      "        ...,\n",
      "\n",
      "        [[255, 255, 255],\n",
      "         [255, 255, 255],\n",
      "         [255, 255, 255],\n",
      "         ...,\n",
      "         [255, 255, 255],\n",
      "         [255, 255, 255],\n",
      "         [255, 255, 255]],\n",
      "\n",
      "        [[255, 255, 255],\n",
      "         [255, 255, 255],\n",
      "         [255, 255, 255],\n",
      "         ...,\n",
      "         [255, 255, 255],\n",
      "         [255, 255, 255],\n",
      "         [255, 255, 255]],\n",
      "\n",
      "        [[255, 255, 255],\n",
      "         [255, 255, 255],\n",
      "         [255, 255, 255],\n",
      "         ...,\n",
      "         [255, 255, 255],\n",
      "         [255, 255, 255],\n",
      "         [255, 255, 255]]], dtype=torch.uint8), tensor([[ 40.5000, 120.2500,  61.5000, 166.7500],\n",
      "        [198.7500,  80.5000, 236.2500, 119.5000],\n",
      "        [ 16.0000,  64.0000,  52.0000, 100.0000],\n",
      "        [156.7500,  69.7500, 194.2500, 107.2500],\n",
      "        [190.5000,  15.5000, 211.5000,  60.5000],\n",
      "        [ 57.7500,  73.7500,  95.2500, 111.2500],\n",
      "        [ 70.2500,  90.0000,  92.7500, 138.0000],\n",
      "        [109.7500, 122.0000, 147.2500, 158.0000],\n",
      "        [111.0000,  65.0000, 153.0000,  95.0000],\n",
      "        [ 30.0000,  76.5000,  78.0000,  97.5000],\n",
      "        [122.2500,  74.5000, 150.7500, 119.5000],\n",
      "        [172.0000,  83.5000, 220.0000, 104.5000],\n",
      "        [159.5000,  42.7500, 180.5000,  92.2500],\n",
      "        [ 79.7500,  36.5000, 129.2500,  57.5000],\n",
      "        [123.5000,  95.7500, 144.5000, 145.2500],\n",
      "        [107.5000,  37.7500, 128.5000,  87.2500],\n",
      "        [ 42.0000, 118.5000,  90.0000, 139.5000],\n",
      "        [129.7500,  72.7500, 179.2500,  92.2500],\n",
      "        [101.5000,  14.0000, 122.5000,  62.0000],\n",
      "        [ 97.5000,  86.0000, 142.5000, 116.0000],\n",
      "        [ 73.0000,  87.5000, 121.0000, 108.5000],\n",
      "        [125.2500, 124.5000, 171.7500, 145.5000],\n",
      "        [160.7500,  41.2500, 210.2500,  63.7500],\n",
      "        [ 99.7500,  62.7500, 131.2500, 106.2500],\n",
      "        [129.7500, 120.2500, 149.2500, 166.7500],\n",
      "        [105.2500,  24.0000, 139.7500,  60.0000],\n",
      "        [127.0000,  71.0000, 157.0000, 101.0000],\n",
      "        [ 94.0000,  80.0000, 124.0000, 110.0000],\n",
      "        [152.0000,  65.0000, 182.0000,  95.0000],\n",
      "        [ 70.2500,  87.2500,  98.7500, 115.7500],\n",
      "        [106.2500,  59.0000, 134.7500,  89.0000],\n",
      "        [123.0000, 117.0000, 153.0000, 147.0000],\n",
      "        [101.2500,  35.0000, 129.7500,  65.0000]]), MaskedEncoding(ids=tensor([  1, 276,  33,  21,  55,  19,  39, 269,  44, 317,  50,  24,  52,  22,\n",
      "        325,  22,  19,  71,  21,  17, 263,  17, 266,  17, 270,  12, 267,  17,\n",
      "        261,  17,  22,  13, 278,  17, 272,  12, 280,  12,  25,  16,  26,  13,\n",
      "         27,  13, 279,  12, 277,  12, 278,  13, 281,  12,  28,  16,  29,  13,\n",
      "        265,  13, 271,  12, 268,  17, 262,  17,  23,  13, 269,  17, 264,  17,\n",
      "         24,  19,  76, 263,  17, 269,  44,  22,  16,  21,  17, 265,  44,  23,\n",
      "          2]), type_ids=tensor([0, 0, 0, 0, 0, 0, 0, 0, 0, 0, 0, 0, 0, 0, 0, 0, 0, 0, 0, 0, 0, 0, 0, 0,\n",
      "        0, 0, 0, 0, 0, 0, 0, 0, 0, 0, 0, 0, 0, 0, 0, 0, 0, 0, 0, 0, 0, 0, 0, 0,\n",
      "        0, 0, 0, 0, 0, 0, 0, 0, 0, 0, 0, 0, 0, 0, 0, 0, 0, 0, 0, 0, 0, 0, 0, 0,\n",
      "        0, 0, 0, 0, 0, 0, 0, 0, 0, 0, 0, 0, 0]), tokens=['[CLS]', 'InChI', '=', '1', 'S', '/', 'C', '18', 'H', '46', 'N', '4', 'P', '2', 'Si', '2', '/', 'c', '1', '-', '11', '-', '15', '-', '19', '(', '16', '-', '12', '-', '2', ')', '23', '-', '21', '(', '25', '(', '5', ',', '6', ')', '7', ')', '24', '(', '22', '(', '23', ')', '26', '(', '8', ',', '9', ')', '10', ')', '20', '(', '17', '-', '13', '-', '3', ')', '18', '-', '14', '-', '4', '/', 'h', '11', '-', '18', 'H', '2', ',', '1', '-', '10', 'H', '3', '[SEP]'], offsets=[(0, 5), (5, 10), (10, 11), (11, 12), (12, 13), (13, 14), (14, 15), (15, 17), (17, 18), (18, 20), (20, 21), (21, 22), (22, 23), (23, 24), (24, 26), (26, 27), (27, 28), (28, 29), (29, 30), (30, 31), (31, 33), (33, 34), (34, 36), (36, 37), (37, 39), (39, 40), (40, 42), (42, 43), (43, 45), (45, 46), (46, 47), (47, 48), (48, 50), (50, 51), (51, 53), (53, 54), (54, 56), (56, 57), (57, 58), (58, 59), (59, 60), (60, 61), (61, 62), (62, 63), (63, 65), (65, 66), (66, 68), (68, 69), (69, 71), (71, 72), (72, 74), (74, 75), (75, 76), (76, 77), (77, 78), (78, 79), (79, 81), (81, 82), (82, 84), (84, 85), (85, 87), (87, 88), (88, 90), (90, 91), (91, 92), (92, 93), (93, 95), (95, 96), (96, 98), (98, 99), (99, 100), (100, 101), (101, 102), (102, 104), (104, 105), (105, 107), (107, 108), (108, 109), (109, 110), (110, 111), (111, 112), (112, 114), (114, 115), (115, 116), (116, 121)], token_attention_mask=tensor([[1, 0, 0,  ..., 1, 1, 1],\n",
      "        [1, 1, 0,  ..., 1, 1, 1],\n",
      "        [1, 1, 1,  ..., 1, 1, 1],\n",
      "        ...,\n",
      "        [1, 1, 1,  ..., 1, 1, 1],\n",
      "        [1, 1, 1,  ..., 1, 1, 1],\n",
      "        [1, 1, 1,  ..., 1, 1, 1]]), img_attention_mask=tensor([[0, 0, 0,  ..., 1, 1, 1],\n",
      "        [0, 0, 0,  ..., 1, 1, 1],\n",
      "        [0, 0, 0,  ..., 1, 1, 1],\n",
      "        ...,\n",
      "        [0, 0, 0,  ..., 1, 1, 1],\n",
      "        [0, 0, 0,  ..., 1, 1, 1],\n",
      "        [0, 0, 0,  ..., 1, 1, 1]]), masked_pos=tensor([0, 1, 0, 1, 0, 0, 0, 0, 0, 0, 0, 0, 1, 0, 0, 0, 0, 0, 0, 0, 0, 0, 0, 0,\n",
      "        1, 0, 0, 0, 0, 1, 0, 1, 0, 0, 1, 0, 1, 0, 0, 0, 0, 0, 0, 0, 0, 0, 1, 0,\n",
      "        0, 0, 0, 0, 0, 0, 0, 0, 0, 0, 0, 0, 0, 0, 0, 0, 0, 1, 1, 0, 0, 0, 0, 0,\n",
      "        1, 0, 0, 0, 1, 1, 1, 0, 0, 0, 0, 0, 1], dtype=torch.int32), masked_ids=tensor([276,  21,  52, 270,  17,  13, 272, 280, 277,  13, 269,  76,  44,  22,\n",
      "         16,   2])))\n"
     ]
    }
   ],
   "source": [
    "train_dir = \"/home/ron/Downloads/bms-molecular-translation/bms-molecular-translation/train\"\n",
    "labels = \"/home/ron/Downloads/bms-molecular-translation/bms-molecular-translation/train_labels.csv\"\n",
    "\n",
    "tk_model_file = \"./checkpoints/bms_tokenizer.json\"\n",
    "tokenizer = Tokenizer.from_file(tk_model_file)\n",
    "bbms_coll = collator.EncodedBatchCollator()\n",
    "bbms = bms_caption.EncodedBBMS(train_dir, labels, tokenizer, mlm=True)\n",
    "loader = DataLoader(bbms, batch_size=8, collate_fn=bbms_coll, num_workers=0, shuffle=True)\n",
    "\n",
    "print(len(bbms))\n",
    "print(bbms[1])"
   ]
  },
  {
   "cell_type": "code",
   "execution_count": 31,
   "id": "cooperative-argument",
   "metadata": {},
   "outputs": [],
   "source": [
    "\n",
    "for batch_ndx, sample in enumerate(loader):\n",
    "#     print(sample)\n",
    "    break"
   ]
  },
  {
   "cell_type": "code",
   "execution_count": 32,
   "id": "swedish-scout",
   "metadata": {},
   "outputs": [],
   "source": [
    "img, boxes, ids, type_ids, atten_mask, mask_pos, mask_ids = sample"
   ]
  },
  {
   "cell_type": "code",
   "execution_count": 35,
   "id": "democratic-moderator",
   "metadata": {},
   "outputs": [
    {
     "name": "stdout",
     "output_type": "stream",
     "text": [
      "torch.Size([8, 119])\n",
      "torch.Size([8, 163, 163])\n"
     ]
    }
   ],
   "source": [
    "print(ids.shape)\n",
    "print(atten_mask.shape)"
   ]
  },
  {
   "cell_type": "code",
   "execution_count": 13,
   "id": "sitting-setup",
   "metadata": {},
   "outputs": [
    {
     "data": {
      "text/plain": [
       "<matplotlib.image.AxesImage at 0x7f4f80037950>"
      ]
     },
     "execution_count": 13,
     "metadata": {},
     "output_type": "execute_result"
    },
    {
     "data": {
      "image/png": "[encoded data removed]",
      "text/plain": [
       "<Figure size 432x288 with 1 Axes>"
      ]
     },
     "metadata": {
      "needs_background": "light"
     },
     "output_type": "display_data"
    }
   ],
   "source": [
    "plt.imshow(img[6])"
   ]
  },
  {
   "cell_type": "code",
   "execution_count": 33,
   "id": "billion-virgin",
   "metadata": {},
   "outputs": [
    {
     "name": "stdout",
     "output_type": "stream",
     "text": [
      "[0]----------------------------------------------------------------------------------------------------\n",
      "torch.Size([8, 119])\n",
      "tensor([  1, 276,  33,  21,  55,  19,  39, 270,  44, 266, 318,  22,  50,  22,\n",
      "         51,  24,  19,  71,  21,  17, 263,  17, 264,  12, 265,  17, 281,  17,\n",
      "        262,  17,  25,  17,  23,  17,  22,  17,  24,  17,  26,  17, 262,  13,\n",
      "        268,  12, 279,  17, 284,  17, 263,  13, 269,  12, 280,  13, 278,  17,\n",
      "        261,  17,  27,  17,  28,  17, 267,  12, 266,  12, 271,  13,  29,  17,\n",
      "        261,  13, 283,  17, 270,  12, 272,  13, 277,  19,  76,  22,  17,  29,\n",
      "         16, 270,  44,  16, 265,  44,  22,  16,  21,  44,  23, 282,  44,  16,\n",
      "        278,  16, 280,  13,   2,   3,   3,   3,   3,   3,   3,   3,   3,   3,\n",
      "          3,   3,   3,   3,   3,   3,   3])\n",
      "[1]----------------------------------------------------------------------------------------------------\n",
      "torch.Size([8, 119])\n",
      "tensor([  1, 276,  33,  21,  55,  19,  39, 266,  44, 270,  50,  23,  51,  24,\n",
      "         19,  71,  21,  17, 271,  17, 261,  17,  25,  17,  26,  17, 262,  12,\n",
      "        264,  12,  28,  17, 261,  13, 272,  17,  22,  13, 269,  17, 266,  12,\n",
      "        270,  13, 267,  17,  27,  17,  23,  17,  24,  17, 263,  17,  29,  17,\n",
      "        268,  17, 277,  17, 265,  17, 263,  19,  76,  25,  17,  26,  16,  28,\n",
      "         17, 265,  44,  16,  23,  17,  24,  16,  27,  44,  22,  16,  21,  17,\n",
      "         22,  44,  23, 282,  44,  22,  16, 267,  16, 269,  16, 270,  13,   2,\n",
      "          3,   3,   3,   3,   3,   3,   3,   3,   3,   3,   3,   3,   3,   3,\n",
      "          3,   3,   3,   3,   3,   3,   3])\n",
      "[2]----------------------------------------------------------------------------------------------------\n",
      "torch.Size([8, 119])\n",
      "tensor([  1, 276,  33,  21,  55,  19,  39, 264,  44, 278,  50,  23,  51,  22,\n",
      "         55,  19,  71,  21,  17,  24,  17, 261,  17, 265,  12,  22,  13, 271,\n",
      "         17, 264,  12, 266,  17, 261,  13, 267,  17, 262,  12, 269,  13,  29,\n",
      "         17, 268,  12,  23,  13,  28,  17, 263,  17,  26,  17,  25,  17,  27,\n",
      "         17, 270,  17, 263,  19,  76, 263,  44,  16,  24,  17,  29,  44,  22,\n",
      "         16,  21,  17,  23,  44,  23, 282,  44,  16, 266,  16, 267,  16, 269,\n",
      "        296,  88, 263, 294,  81,  20,  19,  87,  21,   2,   3,   3,   3,   3,\n",
      "          3,   3,   3,   3,   3,   3,   3,   3,   3,   3,   3,   3,   3,   3,\n",
      "          3,   3,   3,   3,   3,   3,   3])\n",
      "[3]----------------------------------------------------------------------------------------------------\n",
      "torch.Size([8, 119])\n",
      "tensor([  1, 276,  33,  21,  55,  19,  39, 261,  44, 277,  50,  22, 306,  19,\n",
      "         71,  21,  17,  24,  17,  27,  17, 266,  17,  28,  17,  25,  17,  26,\n",
      "         17, 262,  17, 265,  12,  22,  13, 261,  17, 263,  12,  23,  13, 264,\n",
      "         17,  29,  17, 267,  17, 261,  19,  76,  29,  17, 265,  16, 262,  44,\n",
      "         16,  24,  17,  28,  44,  22,  16,  21,  17,  23,  44,  23,   2,   3,\n",
      "          3,   3,   3,   3,   3,   3,   3,   3,   3,   3,   3,   3,   3,   3,\n",
      "          3,   3,   3,   3,   3,   3,   3,   3,   3,   3,   3,   3,   3,   3,\n",
      "          3,   3,   3,   3,   3,   3,   3,   3,   3,   3,   3,   3,   3,   3,\n",
      "          3,   3,   3,   3,   3,   3,   3])\n",
      "[4]----------------------------------------------------------------------------------------------------\n",
      "torch.Size([8, 119])\n",
      "tensor([  1, 276,  33,  21,  55,  19,  39, 277,  44, 269, 290,  22,  50,  22,\n",
      "         51,  23,  55,  19,  71,  21,  17,  23,  17, 285,  17, 277,  12, 284,\n",
      "         13, 268,  12, 261,  17, 280,  13, 272,  17, 281,  12, 267,  17,  27,\n",
      "         17,  24,  17, 262,  12,  22,  13,  25,  17,  28,  17, 267,  13, 271,\n",
      "         12, 283,  13, 270,  12, 286,  17, 272,  13, 263,  17, 264,  17, 265,\n",
      "         17, 266,  12, 278,  13,  26,  17,  29,  17, 269,  12, 264,  13, 279,\n",
      "         19,  76,  24,  17, 265,  16, 270,  44,  16,  23,  16, 263,  44,  22,\n",
      "         16,  21,  17,  22,  44,  23,  19,  70, 272,  17, 268, 294,  88, 270,\n",
      "        294,  81,  21,  19,  87,  21,   2])\n",
      "[5]----------------------------------------------------------------------------------------------------\n",
      "torch.Size([8, 119])\n",
      "tensor([  1, 276,  33,  21,  55,  19,  39, 266,  44, 264,  42,  22,  50,  22,\n",
      "         51,  22,  19,  71,  21,  17,  22,  17, 272,  17, 261,  17,  28,  17,\n",
      "         24,  17,  26,  17, 265,  12, 269,  13, 262,  12, 261,  13, 266,  12,\n",
      "        271,  13, 270,  17, 263,  17,  27,  17,  23,  17,  25,  17,  29,  12,\n",
      "        267,  13, 264,  12, 263,  13, 268,  19,  76,  23,  17,  28,  44,  16,\n",
      "         22,  16, 269,  44,  22,  16,  21,  44,  23, 282,  44,  16, 270,  16,\n",
      "        271,  13,   2,   3,   3,   3,   3,   3,   3,   3,   3,   3,   3,   3,\n",
      "          3,   3,   3,   3,   3,   3,   3,   3,   3,   3,   3,   3,   3,   3,\n",
      "          3,   3,   3,   3,   3,   3,   3])\n",
      "[6]----------------------------------------------------------------------------------------------------\n",
      "torch.Size([8, 119])\n",
      "tensor([  1, 276,  33,  21,  55,  19,  39, 270,  44, 269,  51,  24,  19,  71,\n",
      "        271,  17, 269,  12, 264,  17,  27,  17,  22,  17,  21,  17,  23,  17,\n",
      "         28,  17, 264,  13, 278,  17, 270,  12, 272,  13, 268,  17, 263,  17,\n",
      "         25,  17,  24,  17,  29,  17, 266,  12, 268,  13, 262,  17, 267,  17,\n",
      "        265,  17,  26,  17, 261,  17, 277,  17, 267,  19,  76,  21,  17,  25,\n",
      "         16,  27,  17,  29,  16, 263,  16, 267,  44,  16,  26,  16, 265,  16,\n",
      "        261,  17, 262,  44,  22,   2,   3,   3,   3,   3,   3,   3,   3,   3,\n",
      "          3,   3,   3,   3,   3,   3,   3,   3,   3,   3,   3,   3,   3,   3,\n",
      "          3,   3,   3,   3,   3,   3,   3])\n",
      "[7]----------------------------------------------------------------------------------------------------\n",
      "torch.Size([8, 119])\n",
      "tensor([  1, 276,  33,  21,  55,  19,  39, 269,  44, 271,  50,  24,  19,  71,\n",
      "         21,  17, 261,  12,  22,  13, 268,  17, 271,  17, 272,  17, 269,  12,\n",
      "        267,  17, 263,  17, 265,  17, 262,  12,  23,  13, 270,  17, 264,  12,\n",
      "        267,  13,  24,  13, 277,  12, 268,  13, 266,  17,  28,  17,  26,  17,\n",
      "         25,  17,  27,  17,  29,  17, 266,  19,  76,  25,  17, 261,  44,  16,\n",
      "         21,  17,  24,  44,  23,   2,   3,   3,   3,   3,   3,   3,   3,   3,\n",
      "          3,   3,   3,   3,   3,   3,   3,   3,   3,   3,   3,   3,   3,   3,\n",
      "          3,   3,   3,   3,   3,   3,   3,   3,   3,   3,   3,   3,   3,   3,\n",
      "          3,   3,   3,   3,   3,   3,   3])\n"
     ]
    }
   ],
   "source": [
    "for i in range(len(ids)):\n",
    "    print(f\"[{i}]\" + '-' * 100)\n",
    "    print(ids.shape)\n",
    "    print(ids[i])"
   ]
  },
  {
   "cell_type": "code",
   "execution_count": 34,
   "id": "dramatic-maine",
   "metadata": {},
   "outputs": [
    {
     "data": {
      "text/plain": [
       "[torch.Size([40, 4]),\n",
       " torch.Size([27, 4]),\n",
       " torch.Size([29, 4]),\n",
       " torch.Size([20, 4]),\n",
       " torch.Size([43, 4]),\n",
       " torch.Size([28, 4]),\n",
       " torch.Size([28, 4]),\n",
       " torch.Size([27, 4])]"
      ]
     },
     "execution_count": 34,
     "metadata": {},
     "output_type": "execute_result"
    }
   ],
   "source": [
    "[b.shape for b in boxes]"
   ]
  },
  {
   "cell_type": "code",
   "execution_count": 37,
   "id": "united-version",
   "metadata": {},
   "outputs": [
    {
     "data": {
      "image/png": "[encoded data removed]",
      "text/plain": [
       "<Figure size 432x288 with 1 Axes>"
      ]
     },
     "metadata": {
      "needs_background": "light"
     },
     "output_type": "display_data"
    },
    {
     "data": {
      "image/png": "[encoded data removed]",
      "text/plain": [
       "<Figure size 432x288 with 1 Axes>"
      ]
     },
     "metadata": {
      "needs_background": "light"
     },
     "output_type": "display_data"
    },
    {
     "data": {
      "image/png": "[encoded data removed]",
      "text/plain": [
       "<Figure size 432x288 with 1 Axes>"
      ]
     },
     "metadata": {
      "needs_background": "light"
     },
     "output_type": "display_data"
    },
    {
     "data": {
      "image/png": "[encoded data removed]",
      "text/plain": [
       "<Figure size 432x288 with 1 Axes>"
      ]
     },
     "metadata": {
      "needs_background": "light"
     },
     "output_type": "display_data"
    },
    {
     "data": {
      "image/png": "[encoded data removed]",
      "text/plain": [
       "<Figure size 432x288 with 1 Axes>"
      ]
     },
     "metadata": {
      "needs_background": "light"
     },
     "output_type": "display_data"
    },
    {
     "data": {
      "image/png": "[encoded data removed]",
      "text/plain": [
       "<Figure size 432x288 with 1 Axes>"
      ]
     },
     "metadata": {
      "needs_background": "light"
     },
     "output_type": "display_data"
    },
    {
     "data": {
      "image/png": "[encoded data removed]",
      "text/plain": [
       "<Figure size 432x288 with 1 Axes>"
      ]
     },
     "metadata": {
      "needs_background": "light"
     },
     "output_type": "display_data"
    },
    {
     "data": {
      "image/png": "[encoded data removed]",
      "text/plain": [
       "<Figure size 432x288 with 1 Axes>"
      ]
     },
     "metadata": {
      "needs_background": "light"
     },
     "output_type": "display_data"
    }
   ],
   "source": [
    "for i in range(len(atten_mask)):\n",
    "    plt.imshow(atten_mask[i])\n",
    "    plt.show()"
   ]
  },
  {
   "cell_type": "code",
   "execution_count": 39,
   "id": "accredited-peninsula",
   "metadata": {},
   "outputs": [],
   "source": [
    "normalize = tv.transforms.Normalize(mean=[0.485, 0.456, 0.406], std=[0.229, 0.224, 0.225])"
   ]
  },
  {
   "cell_type": "code",
   "execution_count": 41,
   "id": "caring-antenna",
   "metadata": {},
   "outputs": [
    {
     "ename": "RuntimeError",
     "evalue": "The size of tensor a (4) must match the size of tensor b (3) at non-singleton dimension 0",
     "output_type": "error",
     "traceback": [
      "\u001b[0;31m---------------------------------------------------------------------------\u001b[0m",
      "\u001b[0;31mRuntimeError\u001b[0m                              Traceback (most recent call last)",
      "\u001b[0;32m<ipython-input-41-42ca057c290c>\u001b[0m in \u001b[0;36m<module>\u001b[0;34m\u001b[0m\n\u001b[0;32m----> 1\u001b[0;31m \u001b[0mnormalize\u001b[0m\u001b[0;34m(\u001b[0m\u001b[0mtorch\u001b[0m\u001b[0;34m.\u001b[0m\u001b[0mones\u001b[0m\u001b[0;34m(\u001b[0m\u001b[0;36m4\u001b[0m\u001b[0;34m,\u001b[0m \u001b[0;36m10\u001b[0m\u001b[0;34m,\u001b[0m \u001b[0;36m10\u001b[0m\u001b[0;34m)\u001b[0m\u001b[0;34m)\u001b[0m\u001b[0;34m\u001b[0m\u001b[0;34m\u001b[0m\u001b[0m\n\u001b[0m",
      "\u001b[0;32m~/miniconda3/envs/BMSMT/lib/python3.7/site-packages/torch/nn/modules/module.py\u001b[0m in \u001b[0;36m_call_impl\u001b[0;34m(self, *input, **kwargs)\u001b[0m\n\u001b[1;32m    887\u001b[0m             \u001b[0mresult\u001b[0m \u001b[0;34m=\u001b[0m \u001b[0mself\u001b[0m\u001b[0;34m.\u001b[0m\u001b[0m_slow_forward\u001b[0m\u001b[0;34m(\u001b[0m\u001b[0;34m*\u001b[0m\u001b[0minput\u001b[0m\u001b[0;34m,\u001b[0m \u001b[0;34m**\u001b[0m\u001b[0mkwargs\u001b[0m\u001b[0;34m)\u001b[0m\u001b[0;34m\u001b[0m\u001b[0;34m\u001b[0m\u001b[0m\n\u001b[1;32m    888\u001b[0m         \u001b[0;32melse\u001b[0m\u001b[0;34m:\u001b[0m\u001b[0;34m\u001b[0m\u001b[0;34m\u001b[0m\u001b[0m\n\u001b[0;32m--> 889\u001b[0;31m             \u001b[0mresult\u001b[0m \u001b[0;34m=\u001b[0m \u001b[0mself\u001b[0m\u001b[0;34m.\u001b[0m\u001b[0mforward\u001b[0m\u001b[0;34m(\u001b[0m\u001b[0;34m*\u001b[0m\u001b[0minput\u001b[0m\u001b[0;34m,\u001b[0m \u001b[0;34m**\u001b[0m\u001b[0mkwargs\u001b[0m\u001b[0;34m)\u001b[0m\u001b[0;34m\u001b[0m\u001b[0;34m\u001b[0m\u001b[0m\n\u001b[0m\u001b[1;32m    890\u001b[0m         for hook in itertools.chain(\n\u001b[1;32m    891\u001b[0m                 \u001b[0m_global_forward_hooks\u001b[0m\u001b[0;34m.\u001b[0m\u001b[0mvalues\u001b[0m\u001b[0;34m(\u001b[0m\u001b[0;34m)\u001b[0m\u001b[0;34m,\u001b[0m\u001b[0;34m\u001b[0m\u001b[0;34m\u001b[0m\u001b[0m\n",
      "\u001b[0;32m~/miniconda3/envs/BMSMT/lib/python3.7/site-packages/torchvision/transforms/transforms.py\u001b[0m in \u001b[0;36mforward\u001b[0;34m(self, tensor)\u001b[0m\n\u001b[1;32m    219\u001b[0m             \u001b[0mTensor\u001b[0m\u001b[0;34m:\u001b[0m \u001b[0mNormalized\u001b[0m \u001b[0mTensor\u001b[0m \u001b[0mimage\u001b[0m\u001b[0;34m.\u001b[0m\u001b[0;34m\u001b[0m\u001b[0;34m\u001b[0m\u001b[0m\n\u001b[1;32m    220\u001b[0m         \"\"\"\n\u001b[0;32m--> 221\u001b[0;31m         \u001b[0;32mreturn\u001b[0m \u001b[0mF\u001b[0m\u001b[0;34m.\u001b[0m\u001b[0mnormalize\u001b[0m\u001b[0;34m(\u001b[0m\u001b[0mtensor\u001b[0m\u001b[0;34m,\u001b[0m \u001b[0mself\u001b[0m\u001b[0;34m.\u001b[0m\u001b[0mmean\u001b[0m\u001b[0;34m,\u001b[0m \u001b[0mself\u001b[0m\u001b[0;34m.\u001b[0m\u001b[0mstd\u001b[0m\u001b[0;34m,\u001b[0m \u001b[0mself\u001b[0m\u001b[0;34m.\u001b[0m\u001b[0minplace\u001b[0m\u001b[0;34m)\u001b[0m\u001b[0;34m\u001b[0m\u001b[0;34m\u001b[0m\u001b[0m\n\u001b[0m\u001b[1;32m    222\u001b[0m \u001b[0;34m\u001b[0m\u001b[0m\n\u001b[1;32m    223\u001b[0m     \u001b[0;32mdef\u001b[0m \u001b[0m__repr__\u001b[0m\u001b[0;34m(\u001b[0m\u001b[0mself\u001b[0m\u001b[0;34m)\u001b[0m\u001b[0;34m:\u001b[0m\u001b[0;34m\u001b[0m\u001b[0;34m\u001b[0m\u001b[0m\n",
      "\u001b[0;32m~/miniconda3/envs/BMSMT/lib/python3.7/site-packages/torchvision/transforms/functional.py\u001b[0m in \u001b[0;36mnormalize\u001b[0;34m(tensor, mean, std, inplace)\u001b[0m\n\u001b[1;32m    334\u001b[0m     \u001b[0;32mif\u001b[0m \u001b[0mstd\u001b[0m\u001b[0;34m.\u001b[0m\u001b[0mndim\u001b[0m \u001b[0;34m==\u001b[0m \u001b[0;36m1\u001b[0m\u001b[0;34m:\u001b[0m\u001b[0;34m\u001b[0m\u001b[0;34m\u001b[0m\u001b[0m\n\u001b[1;32m    335\u001b[0m         \u001b[0mstd\u001b[0m \u001b[0;34m=\u001b[0m \u001b[0mstd\u001b[0m\u001b[0;34m.\u001b[0m\u001b[0mview\u001b[0m\u001b[0;34m(\u001b[0m\u001b[0;34m-\u001b[0m\u001b[0;36m1\u001b[0m\u001b[0;34m,\u001b[0m \u001b[0;36m1\u001b[0m\u001b[0;34m,\u001b[0m \u001b[0;36m1\u001b[0m\u001b[0;34m)\u001b[0m\u001b[0;34m\u001b[0m\u001b[0;34m\u001b[0m\u001b[0m\n\u001b[0;32m--> 336\u001b[0;31m     \u001b[0mtensor\u001b[0m\u001b[0;34m.\u001b[0m\u001b[0msub_\u001b[0m\u001b[0;34m(\u001b[0m\u001b[0mmean\u001b[0m\u001b[0;34m)\u001b[0m\u001b[0;34m.\u001b[0m\u001b[0mdiv_\u001b[0m\u001b[0;34m(\u001b[0m\u001b[0mstd\u001b[0m\u001b[0;34m)\u001b[0m\u001b[0;34m\u001b[0m\u001b[0;34m\u001b[0m\u001b[0m\n\u001b[0m\u001b[1;32m    337\u001b[0m     \u001b[0;32mreturn\u001b[0m \u001b[0mtensor\u001b[0m\u001b[0;34m\u001b[0m\u001b[0;34m\u001b[0m\u001b[0m\n\u001b[1;32m    338\u001b[0m \u001b[0;34m\u001b[0m\u001b[0m\n",
      "\u001b[0;31mRuntimeError\u001b[0m: The size of tensor a (4) must match the size of tensor b (3) at non-singleton dimension 0"
     ]
    }
   ],
   "source": [
    "normalize(torch.ones(4, 10, 10))"
   ]
  },
  {
   "cell_type": "code",
   "execution_count": 45,
   "id": "paperback-strike",
   "metadata": {},
   "outputs": [
    {
     "data": {
      "text/plain": [
       "6510733927303557075"
      ]
     },
     "execution_count": 45,
     "metadata": {},
     "output_type": "execute_result"
    }
   ],
   "source": [
    "hash('asdasd121')"
   ]
  },
  {
   "cell_type": "code",
   "execution_count": null,
   "id": "effective-boundary",
   "metadata": {},
   "outputs": [],
   "source": []
  }
 ],
 "metadata": {
  "kernelspec": {
   "display_name": "BMSMT",
   "language": "python",
   "name": "bmsmt"
  },
  "language_info": {
   "codemirror_mode": {
    "name": "ipython",
    "version": 3
   },
   "file_extension": ".py",
   "mimetype": "text/x-python",
   "name": "python",
   "nbconvert_exporter": "python",
   "pygments_lexer": "ipython3",
   "version": "3.7.10"
  }
 },
 "nbformat": 4,
 "nbformat_minor": 5
}
