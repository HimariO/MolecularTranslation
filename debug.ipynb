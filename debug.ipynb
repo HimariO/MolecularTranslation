{
 "cells": [
  {
   "cell_type": "code",
   "execution_count": 1,
   "id": "sorted-philip",
   "metadata": {},
   "outputs": [],
   "source": [
    "import pickle\n",
    "import cv2\n",
    "import numpy as np\n",
    "import torch\n",
    "import torchvision as tv\n",
    "import matplotlib.pyplot as plt\n",
    "import pandas as pd\n",
    "from torch.utils.data import DataLoader\n",
    "from loguru import logger\n",
    "from model.efficientnet.net import EfficientNet\n",
    "from tokenizers import Tokenizer\n",
    "from dataset.tokenizer import basic_tokenizer\n",
    "\n",
    "from dataset import bms_caption, collator\n",
    "import torch\n",
    "\n",
    "def draw_boxes(img, boxes):\n",
    "#     print(img)\n",
    "    for box in boxes:\n",
    "        x1, y1, x2, y2 = box\n",
    "        cv2.rectangle(img, (int(x1), int(y1)), (int(x2), int(y2)), (255,0,0), 1)"
   ]
  },
  {
   "cell_type": "code",
   "execution_count": 11,
   "id": "specified-adaptation",
   "metadata": {},
   "outputs": [
    {
     "name": "stderr",
     "output_type": "stream",
     "text": [
      "2021-05-16 21:25:40.709 | INFO     | dataset.bms_caption:get_samples:76 - [EncodedBBMS] get_samples\n",
      "2021-05-16 21:25:50.621 | INFO     | dataset.bms_caption:get_samples:79 - [EncodedBBMS] find 2405487 imgs\n",
      "2021-05-16 21:25:50.622 | INFO     | dataset.bms_caption:get_samples:88 - Load cached dataset samples from: /home/ron/bms_tmp/52dd16202f321e307c3e905950fb7e4e_2405487.pickle\n"
     ]
    },
    {
     "name": "stdout",
     "output_type": "stream",
     "text": [
      "2405487\n"
     ]
    }
   ],
   "source": [
    "root_dir = \"/home/ron/Downloads/bms-molecular-translation/bms-molecular-translation\"\n",
    "train_dir = \"/home/ron/Downloads/bms-molecular-translation/bms-molecular-translation/train\"\n",
    "labels = \"/home/ron/Downloads/bms-molecular-translation/bms-molecular-translation/train_labels.csv\"\n",
    "\n",
    "# tk_model_file = \"./checkpoints/bms_tokenizer.json\"\n",
    "# tokenizer = Tokenizer.from_file(tk_model_file)\n",
    "tokenizer = basic_tokenizer(custom_decoder=True)\n",
    "bbms_coll = collator.EncodedBatchCollator()\n",
    "bbms = bms_caption.EncodedBBMS(train_dir, labels, tokenizer, mlm=True, img_norm=False, det_inchi=False, full_atten=True, mask_prob=0.0)\n",
    "loader = DataLoader(bbms, batch_size=8, collate_fn=bbms_coll, num_workers=0, shuffle=True)\n",
    "\n",
    "print(len(bbms))\n",
    "# print(bbms[1])"
   ]
  },
  {
   "cell_type": "code",
   "execution_count": 12,
   "id": "polar-bathroom",
   "metadata": {
    "tags": []
   },
   "outputs": [],
   "source": [
    "\n",
    "for batch_ndx, sample in enumerate(loader):\n",
    "    imgkey, img, boxes, ids, type_ids, atten_mask, mask_pos, mask_ids, src_tks = sample[:9]\n",
    "#     print((ids == 0).int().sum())\n",
    "#     print(sample)\n",
    "    if (ids == 0).int().sum() > 0:\n",
    "        print(f\"[batch] {batch_ndx}\", (ids == 0).int().sum(dim=1).shape)\n",
    "        print(ids)\n",
    "        \n",
    "        for j, (v, k) in enumerate(zip((ids == 0).int().sum(dim=1), imgkey)):\n",
    "            if v > 0:\n",
    "                print(j, v, k)\n",
    "                inchi = bbms.id2cap[k]\n",
    "                encoding = tokenizer.encode(inchi)\n",
    "                print(inchi)\n",
    "                print(encoding.ids)\n",
    "                print(encoding.tokens)\n",
    "                print(src_tks[j])\n",
    "        print('-' * 100)\n",
    "    if batch_ndx > 32:\n",
    "        break"
   ]
  },
  {
   "cell_type": "code",
   "execution_count": 4,
   "id": "a9744ddd-7a21-4478-b2ed-a509a1eb8a75",
   "metadata": {},
   "outputs": [],
   "source": [
    "imgkey, img, boxes, ids, type_ids, atten_mask, mask_pos, mask_ids = sample[:8]"
   ]
  },
  {
   "cell_type": "code",
   "execution_count": 15,
   "id": "63e9ef41-2e1c-48e8-8823-b9eb4d91957d",
   "metadata": {},
   "outputs": [
    {
     "data": {
      "text/plain": [
       "['InChI=1S/',\n",
       " 'C',\n",
       " '39',\n",
       " 'H',\n",
       " '56',\n",
       " 'O',\n",
       " '5',\n",
       " '.',\n",
       " 'H',\n",
       " '2',\n",
       " 'O',\n",
       " '/c',\n",
       " '1',\n",
       " '-',\n",
       " '6',\n",
       " '-',\n",
       " '7',\n",
       " '-',\n",
       " '12',\n",
       " '-',\n",
       " '27',\n",
       " '(',\n",
       " '2',\n",
       " ')',\n",
       " '13',\n",
       " '-',\n",
       " '10',\n",
       " '-',\n",
       " '14',\n",
       " '-',\n",
       " '28',\n",
       " '(',\n",
       " '3',\n",
       " ')',\n",
       " '19',\n",
       " '-',\n",
       " '20',\n",
       " '-',\n",
       " '32',\n",
       " '-',\n",
       " '26',\n",
       " '-',\n",
       " '37',\n",
       " '(',\n",
       " '41',\n",
       " ')',\n",
       " '33',\n",
       " '(',\n",
       " '25',\n",
       " '-',\n",
       " '29',\n",
       " '(',\n",
       " '32',\n",
       " ')',\n",
       " '4',\n",
       " ')',\n",
       " '17',\n",
       " '-',\n",
       " '11',\n",
       " '-',\n",
       " '15',\n",
       " '-',\n",
       " '30',\n",
       " '(',\n",
       " '5',\n",
       " ')',\n",
       " '44',\n",
       " '-',\n",
       " '24',\n",
       " '-',\n",
       " '23',\n",
       " '-',\n",
       " '36',\n",
       " '(',\n",
       " '40',\n",
       " ')',\n",
       " '39',\n",
       " '(',\n",
       " '43',\n",
       " ')',\n",
       " '38',\n",
       " '(',\n",
       " '42',\n",
       " ')',\n",
       " '35',\n",
       " '-',\n",
       " '22',\n",
       " '-',\n",
       " '21',\n",
       " '-',\n",
       " '31',\n",
       " '-',\n",
       " '16',\n",
       " '-',\n",
       " '8',\n",
       " '-',\n",
       " '9',\n",
       " '-',\n",
       " '18',\n",
       " '-',\n",
       " '34',\n",
       " '(',\n",
       " '31',\n",
       " ')',\n",
       " '35',\n",
       " ';',\n",
       " '/h',\n",
       " '6',\n",
       " '-',\n",
       " '9',\n",
       " ',',\n",
       " '12',\n",
       " ',',\n",
       " '16',\n",
       " ',',\n",
       " '18',\n",
       " '-',\n",
       " '20',\n",
       " ',',\n",
       " '26',\n",
       " ',',\n",
       " '28',\n",
       " '-',\n",
       " '29',\n",
       " ',',\n",
       " '33',\n",
       " ',',\n",
       " '35',\n",
       " '-',\n",
       " '36',\n",
       " ',',\n",
       " '38',\n",
       " '-',\n",
       " '40',\n",
       " ',',\n",
       " '42',\n",
       " '-',\n",
       " '43',\n",
       " 'H',\n",
       " ',',\n",
       " '5',\n",
       " ',',\n",
       " '10',\n",
       " '-',\n",
       " '11',\n",
       " ',',\n",
       " '13',\n",
       " '-',\n",
       " '15',\n",
       " ',',\n",
       " '17',\n",
       " ',',\n",
       " '21',\n",
       " '-',\n",
       " '25',\n",
       " 'H',\n",
       " '2',\n",
       " ',',\n",
       " '1',\n",
       " '-',\n",
       " '4',\n",
       " 'H',\n",
       " '3',\n",
       " ';',\n",
       " '1',\n",
       " 'H',\n",
       " '2']"
      ]
     },
     "execution_count": 15,
     "metadata": {},
     "output_type": "execute_result"
    }
   ],
   "source": [
    "bug_inchi = \"InChI=1S/C39H56O5.H2O/c1-6-7-12-27(2)13-10-14-28(3)19-20-32-26-37(41)33(25-29(32)4)17-11-15-30(5)44-24-23-36(40)39(43)38(42)35-22-21-31-16-8-9-18-34(31)35;/h6-9,12,16,18-20,26,28-29,33,35-36,38-40,42-43H,5,10-11,13-15,17,21-25H2,1-4H3;1H2\"\n",
    "tokenizer.encode(bug_inchi).tokens"
   ]
  },
  {
   "cell_type": "code",
   "execution_count": 11,
   "id": "dress-result",
   "metadata": {},
   "outputs": [
    {
     "name": "stdout",
     "output_type": "stream",
     "text": [
      "torch.Size([8, 125])\n",
      "torch.Size([8, 187, 187])\n"
     ]
    }
   ],
   "source": [
    "print(ids.shape)\n",
    "print(atten_mask.shape)"
   ]
  },
  {
   "cell_type": "code",
   "execution_count": 33,
   "id": "funky-hearts",
   "metadata": {},
   "outputs": [
    {
     "name": "stdout",
     "output_type": "stream",
     "text": [
      "uint8 (440, 547, 3)\n"
     ]
    },
    {
     "data": {
      "image/png": "[encoded data removed]",
      "text/plain": [
       "<Figure size 1080x720 with 1 Axes>"
      ]
     },
     "metadata": {
      "needs_background": "light"
     },
     "output_type": "display_data"
    },
    {
     "name": "stdout",
     "output_type": "stream",
     "text": [
      "uint8 (440, 547, 3)\n"
     ]
    },
    {
     "data": {
      "image/png": "[encoded data removed]",
      "text/plain": [
       "<Figure size 1080x720 with 1 Axes>"
      ]
     },
     "metadata": {
      "needs_background": "light"
     },
     "output_type": "display_data"
    },
    {
     "name": "stdout",
     "output_type": "stream",
     "text": [
      "uint8 (440, 547, 3)\n"
     ]
    },
    {
     "data": {
      "image/png": "[encoded data removed]",
      "text/plain": [
       "<Figure size 1080x720 with 1 Axes>"
      ]
     },
     "metadata": {
      "needs_background": "light"
     },
     "output_type": "display_data"
    },
    {
     "name": "stdout",
     "output_type": "stream",
     "text": [
      "uint8 (440, 547, 3)\n"
     ]
    },
    {
     "data": {
      "image/png": "[encoded data removed]",
      "text/plain": [
       "<Figure size 1080x720 with 1 Axes>"
      ]
     },
     "metadata": {
      "needs_background": "light"
     },
     "output_type": "display_data"
    }
   ],
   "source": [
    "for i in range(4):\n",
    "    vis_img = img[i].cpu().numpy() * 255\n",
    "    vis_img = np.transpose(vis_img, [1,2,0]).copy()\n",
    "    vis_img = vis_img.astype(np.uint8)\n",
    "\n",
    "    print(vis_img.dtype, vis_img.shape)\n",
    "    draw_boxes(vis_img, boxes[i])\n",
    "\n",
    "    plt.figure(figsize=(15, 10))\n",
    "    plt.imshow(vis_img)\n",
    "    plt.show()"
   ]
  },
  {
   "cell_type": "code",
   "execution_count": 33,
   "id": "miniature-handy",
   "metadata": {},
   "outputs": [
    {
     "name": "stdout",
     "output_type": "stream",
     "text": [
      "[0]----------------------------------------------------------------------------------------------------\n",
      "torch.Size([8, 119])\n",
      "tensor([  1, 276,  33,  21,  55,  19,  39, 270,  44, 266, 318,  22,  50,  22,\n",
      "         51,  24,  19,  71,  21,  17, 263,  17, 264,  12, 265,  17, 281,  17,\n",
      "        262,  17,  25,  17,  23,  17,  22,  17,  24,  17,  26,  17, 262,  13,\n",
      "        268,  12, 279,  17, 284,  17, 263,  13, 269,  12, 280,  13, 278,  17,\n",
      "        261,  17,  27,  17,  28,  17, 267,  12, 266,  12, 271,  13,  29,  17,\n",
      "        261,  13, 283,  17, 270,  12, 272,  13, 277,  19,  76,  22,  17,  29,\n",
      "         16, 270,  44,  16, 265,  44,  22,  16,  21,  44,  23, 282,  44,  16,\n",
      "        278,  16, 280,  13,   2,   3,   3,   3,   3,   3,   3,   3,   3,   3,\n",
      "          3,   3,   3,   3,   3,   3,   3])\n",
      "[1]----------------------------------------------------------------------------------------------------\n",
      "torch.Size([8, 119])\n",
      "tensor([  1, 276,  33,  21,  55,  19,  39, 266,  44, 270,  50,  23,  51,  24,\n",
      "         19,  71,  21,  17, 271,  17, 261,  17,  25,  17,  26,  17, 262,  12,\n",
      "        264,  12,  28,  17, 261,  13, 272,  17,  22,  13, 269,  17, 266,  12,\n",
      "        270,  13, 267,  17,  27,  17,  23,  17,  24,  17, 263,  17,  29,  17,\n",
      "        268,  17, 277,  17, 265,  17, 263,  19,  76,  25,  17,  26,  16,  28,\n",
      "         17, 265,  44,  16,  23,  17,  24,  16,  27,  44,  22,  16,  21,  17,\n",
      "         22,  44,  23, 282,  44,  22,  16, 267,  16, 269,  16, 270,  13,   2,\n",
      "          3,   3,   3,   3,   3,   3,   3,   3,   3,   3,   3,   3,   3,   3,\n",
      "          3,   3,   3,   3,   3,   3,   3])\n",
      "[2]----------------------------------------------------------------------------------------------------\n",
      "torch.Size([8, 119])\n",
      "tensor([  1, 276,  33,  21,  55,  19,  39, 264,  44, 278,  50,  23,  51,  22,\n",
      "         55,  19,  71,  21,  17,  24,  17, 261,  17, 265,  12,  22,  13, 271,\n",
      "         17, 264,  12, 266,  17, 261,  13, 267,  17, 262,  12, 269,  13,  29,\n",
      "         17, 268,  12,  23,  13,  28,  17, 263,  17,  26,  17,  25,  17,  27,\n",
      "         17, 270,  17, 263,  19,  76, 263,  44,  16,  24,  17,  29,  44,  22,\n",
      "         16,  21,  17,  23,  44,  23, 282,  44,  16, 266,  16, 267,  16, 269,\n",
      "        296,  88, 263, 294,  81,  20,  19,  87,  21,   2,   3,   3,   3,   3,\n",
      "          3,   3,   3,   3,   3,   3,   3,   3,   3,   3,   3,   3,   3,   3,\n",
      "          3,   3,   3,   3,   3,   3,   3])\n",
      "[3]----------------------------------------------------------------------------------------------------\n",
      "torch.Size([8, 119])\n",
      "tensor([  1, 276,  33,  21,  55,  19,  39, 261,  44, 277,  50,  22, 306,  19,\n",
      "         71,  21,  17,  24,  17,  27,  17, 266,  17,  28,  17,  25,  17,  26,\n",
      "         17, 262,  17, 265,  12,  22,  13, 261,  17, 263,  12,  23,  13, 264,\n",
      "         17,  29,  17, 267,  17, 261,  19,  76,  29,  17, 265,  16, 262,  44,\n",
      "         16,  24,  17,  28,  44,  22,  16,  21,  17,  23,  44,  23,   2,   3,\n",
      "          3,   3,   3,   3,   3,   3,   3,   3,   3,   3,   3,   3,   3,   3,\n",
      "          3,   3,   3,   3,   3,   3,   3,   3,   3,   3,   3,   3,   3,   3,\n",
      "          3,   3,   3,   3,   3,   3,   3,   3,   3,   3,   3,   3,   3,   3,\n",
      "          3,   3,   3,   3,   3,   3,   3])\n",
      "[4]----------------------------------------------------------------------------------------------------\n",
      "torch.Size([8, 119])\n",
      "tensor([  1, 276,  33,  21,  55,  19,  39, 277,  44, 269, 290,  22,  50,  22,\n",
      "         51,  23,  55,  19,  71,  21,  17,  23,  17, 285,  17, 277,  12, 284,\n",
      "         13, 268,  12, 261,  17, 280,  13, 272,  17, 281,  12, 267,  17,  27,\n",
      "         17,  24,  17, 262,  12,  22,  13,  25,  17,  28,  17, 267,  13, 271,\n",
      "         12, 283,  13, 270,  12, 286,  17, 272,  13, 263,  17, 264,  17, 265,\n",
      "         17, 266,  12, 278,  13,  26,  17,  29,  17, 269,  12, 264,  13, 279,\n",
      "         19,  76,  24,  17, 265,  16, 270,  44,  16,  23,  16, 263,  44,  22,\n",
      "         16,  21,  17,  22,  44,  23,  19,  70, 272,  17, 268, 294,  88, 270,\n",
      "        294,  81,  21,  19,  87,  21,   2])\n",
      "[5]----------------------------------------------------------------------------------------------------\n",
      "torch.Size([8, 119])\n",
      "tensor([  1, 276,  33,  21,  55,  19,  39, 266,  44, 264,  42,  22,  50,  22,\n",
      "         51,  22,  19,  71,  21,  17,  22,  17, 272,  17, 261,  17,  28,  17,\n",
      "         24,  17,  26,  17, 265,  12, 269,  13, 262,  12, 261,  13, 266,  12,\n",
      "        271,  13, 270,  17, 263,  17,  27,  17,  23,  17,  25,  17,  29,  12,\n",
      "        267,  13, 264,  12, 263,  13, 268,  19,  76,  23,  17,  28,  44,  16,\n",
      "         22,  16, 269,  44,  22,  16,  21,  44,  23, 282,  44,  16, 270,  16,\n",
      "        271,  13,   2,   3,   3,   3,   3,   3,   3,   3,   3,   3,   3,   3,\n",
      "          3,   3,   3,   3,   3,   3,   3,   3,   3,   3,   3,   3,   3,   3,\n",
      "          3,   3,   3,   3,   3,   3,   3])\n",
      "[6]----------------------------------------------------------------------------------------------------\n",
      "torch.Size([8, 119])\n",
      "tensor([  1, 276,  33,  21,  55,  19,  39, 270,  44, 269,  51,  24,  19,  71,\n",
      "        271,  17, 269,  12, 264,  17,  27,  17,  22,  17,  21,  17,  23,  17,\n",
      "         28,  17, 264,  13, 278,  17, 270,  12, 272,  13, 268,  17, 263,  17,\n",
      "         25,  17,  24,  17,  29,  17, 266,  12, 268,  13, 262,  17, 267,  17,\n",
      "        265,  17,  26,  17, 261,  17, 277,  17, 267,  19,  76,  21,  17,  25,\n",
      "         16,  27,  17,  29,  16, 263,  16, 267,  44,  16,  26,  16, 265,  16,\n",
      "        261,  17, 262,  44,  22,   2,   3,   3,   3,   3,   3,   3,   3,   3,\n",
      "          3,   3,   3,   3,   3,   3,   3,   3,   3,   3,   3,   3,   3,   3,\n",
      "          3,   3,   3,   3,   3,   3,   3])\n",
      "[7]----------------------------------------------------------------------------------------------------\n",
      "torch.Size([8, 119])\n",
      "tensor([  1, 276,  33,  21,  55,  19,  39, 269,  44, 271,  50,  24,  19,  71,\n",
      "         21,  17, 261,  12,  22,  13, 268,  17, 271,  17, 272,  17, 269,  12,\n",
      "        267,  17, 263,  17, 265,  17, 262,  12,  23,  13, 270,  17, 264,  12,\n",
      "        267,  13,  24,  13, 277,  12, 268,  13, 266,  17,  28,  17,  26,  17,\n",
      "         25,  17,  27,  17,  29,  17, 266,  19,  76,  25,  17, 261,  44,  16,\n",
      "         21,  17,  24,  44,  23,   2,   3,   3,   3,   3,   3,   3,   3,   3,\n",
      "          3,   3,   3,   3,   3,   3,   3,   3,   3,   3,   3,   3,   3,   3,\n",
      "          3,   3,   3,   3,   3,   3,   3,   3,   3,   3,   3,   3,   3,   3,\n",
      "          3,   3,   3,   3,   3,   3,   3])\n"
     ]
    }
   ],
   "source": [
    "for i in range(len(ids)):\n",
    "    print(f\"[{i}]\" + '-' * 100)\n",
    "    print(ids.shape)\n",
    "    print(ids[i])"
   ]
  },
  {
   "cell_type": "code",
   "execution_count": 34,
   "id": "female-series",
   "metadata": {},
   "outputs": [
    {
     "data": {
      "text/plain": [
       "[torch.Size([40, 4]),\n",
       " torch.Size([27, 4]),\n",
       " torch.Size([29, 4]),\n",
       " torch.Size([20, 4]),\n",
       " torch.Size([43, 4]),\n",
       " torch.Size([28, 4]),\n",
       " torch.Size([28, 4]),\n",
       " torch.Size([27, 4])]"
      ]
     },
     "execution_count": 34,
     "metadata": {},
     "output_type": "execute_result"
    }
   ],
   "source": [
    "[b.shape for b in boxes]"
   ]
  },
  {
   "cell_type": "code",
   "execution_count": 5,
   "id": "durable-complement",
   "metadata": {},
   "outputs": [
    {
     "data": {
      "image/png": "[encoded data removed]",
      "text/plain": [
       "<Figure size 432x288 with 1 Axes>"
      ]
     },
     "metadata": {
      "needs_background": "light"
     },
     "output_type": "display_data"
    },
    {
     "data": {
      "image/png": "[encoded data removed]",
      "text/plain": [
       "<Figure size 432x288 with 1 Axes>"
      ]
     },
     "metadata": {
      "needs_background": "light"
     },
     "output_type": "display_data"
    },
    {
     "data": {
      "image/png": "[encoded data removed]",
      "text/plain": [
       "<Figure size 432x288 with 1 Axes>"
      ]
     },
     "metadata": {
      "needs_background": "light"
     },
     "output_type": "display_data"
    },
    {
     "data": {
      "image/png": "[encoded data removed]",
      "text/plain": [
       "<Figure size 432x288 with 1 Axes>"
      ]
     },
     "metadata": {
      "needs_background": "light"
     },
     "output_type": "display_data"
    },
    {
     "data": {
      "image/png": "[encoded data removed]",
      "text/plain": [
       "<Figure size 432x288 with 1 Axes>"
      ]
     },
     "metadata": {
      "needs_background": "light"
     },
     "output_type": "display_data"
    },
    {
     "data": {
      "image/png": "[encoded data removed]",
      "text/plain": [
       "<Figure size 432x288 with 1 Axes>"
      ]
     },
     "metadata": {
      "needs_background": "light"
     },
     "output_type": "display_data"
    },
    {
     "data": {
      "image/png": "[encoded data removed]",
      "text/plain": [
       "<Figure size 432x288 with 1 Axes>"
      ]
     },
     "metadata": {
      "needs_background": "light"
     },
     "output_type": "display_data"
    },
    {
     "data": {
      "image/png": "[encoded data removed]",
      "text/plain": [
       "<Figure size 432x288 with 1 Axes>"
      ]
     },
     "metadata": {
      "needs_background": "light"
     },
     "output_type": "display_data"
    }
   ],
   "source": [
    "for i in range(len(atten_mask)):\n",
    "    plt.imshow(atten_mask[i])\n",
    "    plt.show()"
   ]
  },
  {
   "cell_type": "code",
   "execution_count": 39,
   "id": "important-input",
   "metadata": {},
   "outputs": [],
   "source": [
    "normalize = tv.transforms.Normalize(mean=[0.485, 0.456, 0.406], std=[0.229, 0.224, 0.225])"
   ]
  },
  {
   "cell_type": "code",
   "execution_count": 47,
   "id": "viral-alcohol",
   "metadata": {},
   "outputs": [
    {
     "data": {
      "text/plain": [
       "tensor([[[434.5633, 434.5633, 434.5633, 434.5633, 434.5633, 434.5633, 434.5633,\n",
       "          434.5633, 434.5633, 434.5633],\n",
       "         [434.5633, 434.5633, 434.5633, 434.5633, 434.5633, 434.5633, 434.5633,\n",
       "          434.5633, 434.5633, 434.5633],\n",
       "         [434.5633, 434.5633, 434.5633, 434.5633, 434.5633, 434.5633, 434.5633,\n",
       "          434.5633, 434.5633, 434.5633],\n",
       "         [434.5633, 434.5633, 434.5633, 434.5633, 434.5633, 434.5633, 434.5633,\n",
       "          434.5633, 434.5633, 434.5633],\n",
       "         [434.5633, 434.5633, 434.5633, 434.5633, 434.5633, 434.5633, 434.5633,\n",
       "          434.5633, 434.5633, 434.5633],\n",
       "         [434.5633, 434.5633, 434.5633, 434.5633, 434.5633, 434.5633, 434.5633,\n",
       "          434.5633, 434.5633, 434.5633],\n",
       "         [434.5633, 434.5633, 434.5633, 434.5633, 434.5633, 434.5633, 434.5633,\n",
       "          434.5633, 434.5633, 434.5633],\n",
       "         [434.5633, 434.5633, 434.5633, 434.5633, 434.5633, 434.5633, 434.5633,\n",
       "          434.5633, 434.5633, 434.5633],\n",
       "         [434.5633, 434.5633, 434.5633, 434.5633, 434.5633, 434.5633, 434.5633,\n",
       "          434.5633, 434.5633, 434.5633],\n",
       "         [434.5633, 434.5633, 434.5633, 434.5633, 434.5633, 434.5633, 434.5633,\n",
       "          434.5633, 434.5633, 434.5633]],\n",
       "\n",
       "        [[444.3929, 444.3929, 444.3929, 444.3929, 444.3929, 444.3929, 444.3929,\n",
       "          444.3929, 444.3929, 444.3929],\n",
       "         [444.3929, 444.3929, 444.3929, 444.3929, 444.3929, 444.3929, 444.3929,\n",
       "          444.3929, 444.3929, 444.3929],\n",
       "         [444.3929, 444.3929, 444.3929, 444.3929, 444.3929, 444.3929, 444.3929,\n",
       "          444.3929, 444.3929, 444.3929],\n",
       "         [444.3929, 444.3929, 444.3929, 444.3929, 444.3929, 444.3929, 444.3929,\n",
       "          444.3929, 444.3929, 444.3929],\n",
       "         [444.3929, 444.3929, 444.3929, 444.3929, 444.3929, 444.3929, 444.3929,\n",
       "          444.3929, 444.3929, 444.3929],\n",
       "         [444.3929, 444.3929, 444.3929, 444.3929, 444.3929, 444.3929, 444.3929,\n",
       "          444.3929, 444.3929, 444.3929],\n",
       "         [444.3929, 444.3929, 444.3929, 444.3929, 444.3929, 444.3929, 444.3929,\n",
       "          444.3929, 444.3929, 444.3929],\n",
       "         [444.3929, 444.3929, 444.3929, 444.3929, 444.3929, 444.3929, 444.3929,\n",
       "          444.3929, 444.3929, 444.3929],\n",
       "         [444.3929, 444.3929, 444.3929, 444.3929, 444.3929, 444.3929, 444.3929,\n",
       "          444.3929, 444.3929, 444.3929],\n",
       "         [444.3929, 444.3929, 444.3929, 444.3929, 444.3929, 444.3929, 444.3929,\n",
       "          444.3929, 444.3929, 444.3929]],\n",
       "\n",
       "        [[442.6400, 442.6400, 442.6400, 442.6400, 442.6400, 442.6400, 442.6400,\n",
       "          442.6400, 442.6400, 442.6400],\n",
       "         [442.6400, 442.6400, 442.6400, 442.6400, 442.6400, 442.6400, 442.6400,\n",
       "          442.6400, 442.6400, 442.6400],\n",
       "         [442.6400, 442.6400, 442.6400, 442.6400, 442.6400, 442.6400, 442.6400,\n",
       "          442.6400, 442.6400, 442.6400],\n",
       "         [442.6400, 442.6400, 442.6400, 442.6400, 442.6400, 442.6400, 442.6400,\n",
       "          442.6400, 442.6400, 442.6400],\n",
       "         [442.6400, 442.6400, 442.6400, 442.6400, 442.6400, 442.6400, 442.6400,\n",
       "          442.6400, 442.6400, 442.6400],\n",
       "         [442.6400, 442.6400, 442.6400, 442.6400, 442.6400, 442.6400, 442.6400,\n",
       "          442.6400, 442.6400, 442.6400],\n",
       "         [442.6400, 442.6400, 442.6400, 442.6400, 442.6400, 442.6400, 442.6400,\n",
       "          442.6400, 442.6400, 442.6400],\n",
       "         [442.6400, 442.6400, 442.6400, 442.6400, 442.6400, 442.6400, 442.6400,\n",
       "          442.6400, 442.6400, 442.6400],\n",
       "         [442.6400, 442.6400, 442.6400, 442.6400, 442.6400, 442.6400, 442.6400,\n",
       "          442.6400, 442.6400, 442.6400],\n",
       "         [442.6400, 442.6400, 442.6400, 442.6400, 442.6400, 442.6400, 442.6400,\n",
       "          442.6400, 442.6400, 442.6400]]])"
      ]
     },
     "execution_count": 47,
     "metadata": {},
     "output_type": "execute_result"
    }
   ],
   "source": [
    "normalize(torch.ones(3, 10, 10) * 100)"
   ]
  },
  {
   "cell_type": "code",
   "execution_count": 45,
   "id": "certain-tuesday",
   "metadata": {},
   "outputs": [
    {
     "data": {
      "text/plain": [
       "6510733927303557075"
      ]
     },
     "execution_count": 45,
     "metadata": {},
     "output_type": "execute_result"
    }
   ],
   "source": [
    "hash('asdasd121')"
   ]
  },
  {
   "cell_type": "code",
   "execution_count": 48,
   "id": "orange-renewal",
   "metadata": {},
   "outputs": [],
   "source": [
    "BMS_CLASSES = [\n",
    "    '#',\n",
    "    '-',\n",
    "    '=',\n",
    "    'B-1',\n",
    "    'B0',\n",
    "    'B1',\n",
    "    'Br0',\n",
    "    'Br1',\n",
    "    'C-1',\n",
    "    'C0',\n",
    "    'C1',\n",
    "    'Cl0',\n",
    "    'Cl2',\n",
    "    'Cl3',\n",
    "    'F0',\n",
    "    'F1',\n",
    "    'H',\n",
    "    'H0',\n",
    "    'H1',\n",
    "    'I0',\n",
    "    'I3',\n",
    "    'N-1',\n",
    "    'N0',\n",
    "    'N1',\n",
    "    'O-1',\n",
    "    'O0',\n",
    "    'O1',\n",
    "    'P-1',\n",
    "    'P0',\n",
    "    'P1',\n",
    "    'S-1',\n",
    "    'S0',\n",
    "    'S1',\n",
    "    'Si-1',\n",
    "    'Si0',\n",
    "    'Si1',\n",
    "]"
   ]
  },
  {
   "cell_type": "code",
   "execution_count": 54,
   "id": "every-unemployment",
   "metadata": {},
   "outputs": [
    {
     "data": {
      "text/plain": [
       "'C0'"
      ]
     },
     "execution_count": 54,
     "metadata": {},
     "output_type": "execute_result"
    }
   ],
   "source": [
    "BMS_CLASSES[9]"
   ]
  },
  {
   "cell_type": "code",
   "execution_count": 53,
   "id": "illegal-process",
   "metadata": {},
   "outputs": [
    {
     "data": {
      "text/plain": [
       "36"
      ]
     },
     "execution_count": 53,
     "metadata": {},
     "output_type": "execute_result"
    }
   ],
   "source": [
    "len(BMS_CLASSES)"
   ]
  },
  {
   "cell_type": "code",
   "execution_count": 55,
   "id": "southern-bulgarian",
   "metadata": {},
   "outputs": [],
   "source": [
    "vocab = {'(': 0, ')': 1, '+': 2, ',': 3, '-': 4, '/b': 5, '/c': 6, '/h': 7, '/i': 8, '/m': 9, '/s': 10, '/t': 11, '0': 12, '1': 13, '10': 14, '100': 15, '101': 16, '102': 17, '103': 18, '104': 19, '105': 20, '106': 21, '107': 22, '108': 23, '109': 24, '11': 25, '110': 26, '111': 27, '112': 28, '113': 29, '114': 30, '115': 31, '116': 32, '117': 33, '118': 34, '119': 35, '12': 36, '120': 37, '121': 38, '122': 39, '123': 40, '124': 41, '125': 42, '126': 43, '127': 44, '128': 45, '129': 46, '13': 47, '130': 48, '131': 49, '132': 50, '133': 51, '134': 52, '135': 53, '136': 54, '137': 55, '138': 56, '139': 57, '14': 58, '140': 59, '141': 60, '142': 61, '143': 62, '144': 63, '145': 64, '146': 65, '147': 66, '148': 67, '149': 68, '15': 69, '150': 70, '151': 71, '152': 72, '153': 73, '154': 74, '155': 75, '156': 76, '157': 77, '158': 78, '159': 79, '16': 80, '161': 81, '163': 82, '165': 83, '167': 84, '17': 85, '18': 86, '19': 87, '2': 88, '20': 89, '21': 90, '22': 91, '23': 92, '24': 93, '25': 94, '26': 95, '27': 96, '28': 97, '29': 98, '3': 99, '30': 100, '31': 101, '32': 102, '33': 103, '34': 104, '35': 105, '36': 106, '37': 107, '38': 108, '39': 109, '4': 110, '40': 111, '41': 112, '42': 113, '43': 114, '44': 115, '45': 116, '46': 117, '47': 118, '48': 119, '49': 120, '5': 121, '50': 122, '51': 123, '52': 124, '53': 125, '54': 126, '55': 127, '56': 128, '57': 129, '58': 130, '59': 131, '6': 132, '60': 133, '61': 134, '62': 135, '63': 136, '64': 137, '65': 138, '66': 139, '67': 140, '68': 141, '69': 142, '7': 143, '70': 144, '71': 145, '72': 146, '73': 147, '74': 148, '75': 149, '76': 150, '77': 151, '78': 152, '79': 153, '8': 154, '80': 155, '81': 156, '82': 157, '83': 158, '84': 159, '85': 160, '86': 161, '87': 162, '88': 163, '89': 164, '9': 165, '90': 166, '91': 167, '92': 168, '93': 169, '94': 170, '95': 171, '96': 172, '97': 173, '98': 174, '99': 175, 'B': 176, 'Br': 177, 'C': 178, 'Cl': 179, 'D': 180, 'F': 181, 'H': 182, 'I': 183, 'N': 184, 'O': 185, 'P': 186, 'S': 187, 'Si': 188, 'T': 189, '<sos>': 190, '<eos>': 191, '<pad>': 192}"
   ]
  },
  {
   "cell_type": "code",
   "execution_count": 56,
   "id": "opened-uncle",
   "metadata": {},
   "outputs": [
    {
     "data": {
      "text/plain": [
       "193"
      ]
     },
     "execution_count": 56,
     "metadata": {},
     "output_type": "execute_result"
    }
   ],
   "source": [
    "len(vocab)"
   ]
  },
  {
   "cell_type": "code",
   "execution_count": 57,
   "id": "electric-obligation",
   "metadata": {},
   "outputs": [
    {
     "data": {
      "text/plain": [
       "52000"
      ]
     },
     "execution_count": 57,
     "metadata": {},
     "output_type": "execute_result"
    }
   ],
   "source": [
    "52_000"
   ]
  },
  {
   "cell_type": "code",
   "execution_count": 2,
   "id": "forbidden-preserve",
   "metadata": {},
   "outputs": [],
   "source": [
    "exrta = pd.read_csv('/home/ron/Downloads/bms-molecular-translation/bms-molecular-translation/extra_approved_InChIs.csv')"
   ]
  },
  {
   "cell_type": "code",
   "execution_count": 8,
   "id": "twenty-failure",
   "metadata": {},
   "outputs": [],
   "source": [
    "extra_idx = [f\"ex_{i:08}\" for i in range(len(exrta))]"
   ]
  },
  {
   "cell_type": "code",
   "execution_count": 10,
   "id": "alternative-negative",
   "metadata": {},
   "outputs": [
    {
     "data": {
      "text/plain": [
       "'ex00000012'"
      ]
     },
     "execution_count": 10,
     "metadata": {},
     "output_type": "execute_result"
    }
   ],
   "source": [
    "f\"ex{12:08}\""
   ]
  },
  {
   "cell_type": "code",
   "execution_count": 11,
   "id": "charged-canada",
   "metadata": {},
   "outputs": [
    {
     "data": {
      "text/plain": [
       "9998711"
      ]
     },
     "execution_count": 11,
     "metadata": {},
     "output_type": "execute_result"
    }
   ],
   "source": [
    "len(exrta)"
   ]
  },
  {
   "cell_type": "code",
   "execution_count": 9,
   "id": "peripheral-launch",
   "metadata": {},
   "outputs": [],
   "source": [
    "exrta['image_id'] = extra_idx"
   ]
  },
  {
   "cell_type": "code",
   "execution_count": 10,
   "id": "blocked-cincinnati",
   "metadata": {},
   "outputs": [],
   "source": [
    "exrta.to_csv(\"/home/ron/Downloads/bms-molecular-translation/bms-molecular-translation/extra_inchis_id.csv\")"
   ]
  },
  {
   "cell_type": "code",
   "execution_count": 11,
   "id": "starting-medicare",
   "metadata": {},
   "outputs": [
    {
     "data": {
      "text/html": [
       "<div>\n",
       "<style scoped>\n",
       "    .dataframe tbody tr th:only-of-type {\n",
       "        vertical-align: middle;\n",
       "    }\n",
       "\n",
       "    .dataframe tbody tr th {\n",
       "        vertical-align: top;\n",
       "    }\n",
       "\n",
       "    .dataframe thead th {\n",
       "        text-align: right;\n",
       "    }\n",
       "</style>\n",
       "<table border=\"1\" class=\"dataframe\">\n",
       "  <thead>\n",
       "    <tr style=\"text-align: right;\">\n",
       "      <th></th>\n",
       "      <th>Unnamed: 0</th>\n",
       "      <th>InChI</th>\n",
       "      <th>image_id</th>\n",
       "    </tr>\n",
       "  </thead>\n",
       "  <tbody>\n",
       "    <tr>\n",
       "      <th>0</th>\n",
       "      <td>0</td>\n",
       "      <td>InChI=1S/C13H10Cl4O4/c1-20-13(21-2)11(16)5-6-8...</td>\n",
       "      <td>ex_00000000</td>\n",
       "    </tr>\n",
       "    <tr>\n",
       "      <th>1</th>\n",
       "      <td>1</td>\n",
       "      <td>InChI=1S/C23H32O6Si/c1-20(2)25-15-19(27-20)22(...</td>\n",
       "      <td>ex_00000001</td>\n",
       "    </tr>\n",
       "    <tr>\n",
       "      <th>2</th>\n",
       "      <td>2</td>\n",
       "      <td>InChI=1S/C24H16N4O3/c29-21-19-20(14-8-2-1-3-9-...</td>\n",
       "      <td>ex_00000002</td>\n",
       "    </tr>\n",
       "    <tr>\n",
       "      <th>3</th>\n",
       "      <td>3</td>\n",
       "      <td>InChI=1S/C20H26N2O5/c1-9-14-11-7-13-19(8-21-3)...</td>\n",
       "      <td>ex_00000003</td>\n",
       "    </tr>\n",
       "    <tr>\n",
       "      <th>4</th>\n",
       "      <td>4</td>\n",
       "      <td>InChI=1S/C14H12BrN/c15-8-3-1-7(2-4-8)12-9-5-10...</td>\n",
       "      <td>ex_00000004</td>\n",
       "    </tr>\n",
       "    <tr>\n",
       "      <th>...</th>\n",
       "      <td>...</td>\n",
       "      <td>...</td>\n",
       "      <td>...</td>\n",
       "    </tr>\n",
       "    <tr>\n",
       "      <th>9998706</th>\n",
       "      <td>9998706</td>\n",
       "      <td>InChI=1S/C21H25NO4S/c1-15-14-18(27(2,24)25)12-...</td>\n",
       "      <td>ex_09998706</td>\n",
       "    </tr>\n",
       "    <tr>\n",
       "      <th>9998707</th>\n",
       "      <td>9998707</td>\n",
       "      <td>InChI=1S/C39H42N4O5/c1-5-6-18-40-38(44)27-16-1...</td>\n",
       "      <td>ex_09998707</td>\n",
       "    </tr>\n",
       "    <tr>\n",
       "      <th>9998708</th>\n",
       "      <td>9998708</td>\n",
       "      <td>InChI=1S/C19H23ClN2O4S/c1-4-5-6-7-8-26-17-14(2...</td>\n",
       "      <td>ex_09998708</td>\n",
       "    </tr>\n",
       "    <tr>\n",
       "      <th>9998709</th>\n",
       "      <td>9998709</td>\n",
       "      <td>InChI=1S/C20H24N2OS/c1-15-8-9-17(24-15)14-22-1...</td>\n",
       "      <td>ex_09998709</td>\n",
       "    </tr>\n",
       "    <tr>\n",
       "      <th>9998710</th>\n",
       "      <td>9998710</td>\n",
       "      <td>InChI=1S/C17H25N5OS/c1-13-20-16(23-21-13)6-5-1...</td>\n",
       "      <td>ex_09998710</td>\n",
       "    </tr>\n",
       "  </tbody>\n",
       "</table>\n",
       "<p>9998711 rows × 3 columns</p>\n",
       "</div>"
      ],
      "text/plain": [
       "         Unnamed: 0                                              InChI  \\\n",
       "0                 0  InChI=1S/C13H10Cl4O4/c1-20-13(21-2)11(16)5-6-8...   \n",
       "1                 1  InChI=1S/C23H32O6Si/c1-20(2)25-15-19(27-20)22(...   \n",
       "2                 2  InChI=1S/C24H16N4O3/c29-21-19-20(14-8-2-1-3-9-...   \n",
       "3                 3  InChI=1S/C20H26N2O5/c1-9-14-11-7-13-19(8-21-3)...   \n",
       "4                 4  InChI=1S/C14H12BrN/c15-8-3-1-7(2-4-8)12-9-5-10...   \n",
       "...             ...                                                ...   \n",
       "9998706     9998706  InChI=1S/C21H25NO4S/c1-15-14-18(27(2,24)25)12-...   \n",
       "9998707     9998707  InChI=1S/C39H42N4O5/c1-5-6-18-40-38(44)27-16-1...   \n",
       "9998708     9998708  InChI=1S/C19H23ClN2O4S/c1-4-5-6-7-8-26-17-14(2...   \n",
       "9998709     9998709  InChI=1S/C20H24N2OS/c1-15-8-9-17(24-15)14-22-1...   \n",
       "9998710     9998710  InChI=1S/C17H25N5OS/c1-13-20-16(23-21-13)6-5-1...   \n",
       "\n",
       "            image_id  \n",
       "0        ex_00000000  \n",
       "1        ex_00000001  \n",
       "2        ex_00000002  \n",
       "3        ex_00000003  \n",
       "4        ex_00000004  \n",
       "...              ...  \n",
       "9998706  ex_09998706  \n",
       "9998707  ex_09998707  \n",
       "9998708  ex_09998708  \n",
       "9998709  ex_09998709  \n",
       "9998710  ex_09998710  \n",
       "\n",
       "[9998711 rows x 3 columns]"
      ]
     },
     "execution_count": 11,
     "metadata": {},
     "output_type": "execute_result"
    }
   ],
   "source": [
    "pd.read_csv(\"/home/ron/Downloads/bms-molecular-translation/bms-molecular-translation/extra_inchis_id.csv\")"
   ]
  },
  {
   "cell_type": "code",
   "execution_count": 8,
   "id": "documentary-wagon",
   "metadata": {},
   "outputs": [
    {
     "data": {
      "text/plain": [
       "174080.0"
      ]
     },
     "execution_count": 8,
     "metadata": {},
     "output_type": "execute_result"
    }
   ],
   "source": [
    "320 * 320 * 1.7"
   ]
  },
  {
   "cell_type": "code",
   "execution_count": 4,
   "id": "needed-closing",
   "metadata": {},
   "outputs": [
    {
     "data": {
      "text/plain": [
       "147456"
      ]
     },
     "execution_count": 4,
     "metadata": {},
     "output_type": "execute_result"
    }
   ],
   "source": [
    "384 * 384"
   ]
  },
  {
   "cell_type": "code",
   "execution_count": 9,
   "id": "fabulous-screw",
   "metadata": {},
   "outputs": [
    {
     "data": {
      "text/plain": [
       "544.0"
      ]
     },
     "execution_count": 9,
     "metadata": {},
     "output_type": "execute_result"
    }
   ],
   "source": [
    " 320 * 1.7"
   ]
  },
  {
   "cell_type": "code",
   "execution_count": 10,
   "id": "presidential-february",
   "metadata": {},
   "outputs": [
    {
     "data": {
      "text/plain": [
       "17.0"
      ]
     },
     "execution_count": 10,
     "metadata": {},
     "output_type": "execute_result"
    }
   ],
   "source": [
    "544/32"
   ]
  },
  {
   "cell_type": "code",
   "execution_count": 1,
   "id": "analyzed-vermont",
   "metadata": {},
   "outputs": [
    {
     "data": {
      "text/plain": [
       "0.7222222222222222"
      ]
     },
     "execution_count": 1,
     "metadata": {},
     "output_type": "execute_result"
    }
   ],
   "source": [
    "260/360"
   ]
  },
  {
   "cell_type": "code",
   "execution_count": 1,
   "id": "quality-conservation",
   "metadata": {},
   "outputs": [
    {
     "data": {
      "text/plain": [
       "3"
      ]
     },
     "execution_count": 1,
     "metadata": {},
     "output_type": "execute_result"
    }
   ],
   "source": [
    "[0,1,2,3].index(3)"
   ]
  },
  {
   "cell_type": "code",
   "execution_count": 35,
   "id": "adjustable-purple",
   "metadata": {},
   "outputs": [],
   "source": [
    "with open('/home/ron/Downloads/bms-molecular-translation/vocabulary_to_int.pkl', 'rb') as f:\n",
    "    voc2int = pickle.load(f)"
   ]
  },
  {
   "cell_type": "code",
   "execution_count": 36,
   "id": "banned-joyce",
   "metadata": {},
   "outputs": [
    {
     "data": {
      "text/plain": [
       "{'<start>': 0,\n",
       " '<end>': 1,\n",
       " '<pad>': 2,\n",
       " 'T': 3,\n",
       " ',': 4,\n",
       " 'c': 5,\n",
       " 't': 6,\n",
       " 'I': 7,\n",
       " 'n': 8,\n",
       " 'S': 9,\n",
       " 'H': 10,\n",
       " '(': 11,\n",
       " 'i': 12,\n",
       " '3': 13,\n",
       " '2': 14,\n",
       " 'l': 15,\n",
       " 'O': 16,\n",
       " '4': 17,\n",
       " '/': 18,\n",
       " '1': 19,\n",
       " '9': 20,\n",
       " '=': 21,\n",
       " 'h': 22,\n",
       " 's': 23,\n",
       " 'b': 24,\n",
       " '6': 25,\n",
       " 'F': 26,\n",
       " 'N': 27,\n",
       " '-': 28,\n",
       " '8': 29,\n",
       " 'm': 30,\n",
       " 'D': 31,\n",
       " '0': 32,\n",
       " ')': 33,\n",
       " '7': 34,\n",
       " '+': 35,\n",
       " 'P': 36,\n",
       " '5': 37,\n",
       " 'C': 38,\n",
       " 'B': 39,\n",
       " 'r': 40}"
      ]
     },
     "execution_count": 36,
     "metadata": {},
     "output_type": "execute_result"
    }
   ],
   "source": [
    "voc2int"
   ]
  },
  {
   "cell_type": "code",
   "execution_count": 1,
   "id": "raised-gazette",
   "metadata": {},
   "outputs": [
    {
     "data": {
      "text/plain": [
       "3"
      ]
     },
     "execution_count": 1,
     "metadata": {},
     "output_type": "execute_result"
    }
   ],
   "source": [
    "[2,3,4,1,1,5].index(1)"
   ]
  },
  {
   "cell_type": "code",
   "execution_count": 4,
   "id": "602886e9-d957-4a86-b1ef-a99a4cf5ba4e",
   "metadata": {},
   "outputs": [],
   "source": [
    "st = torch.load('/home/ron/Projects/MolecularTranslation/checkpoints/dev/lightning_logs/version_7/checkpoints/epoch=0-step=97397.ckpt')"
   ]
  },
  {
   "cell_type": "code",
   "execution_count": 5,
   "id": "921bdc0f-118f-4eaf-928f-ca37efa54bc5",
   "metadata": {},
   "outputs": [
    {
     "data": {
      "text/plain": [
       "dict_keys(['epoch', 'global_step', 'pytorch-lightning_version', 'state_dict', 'callbacks', 'optimizer_states', 'lr_schedulers', 'native_amp_scaling_state'])"
      ]
     },
     "execution_count": 5,
     "metadata": {},
     "output_type": "execute_result"
    }
   ],
   "source": [
    "st.keys()"
   ]
  },
  {
   "cell_type": "code",
   "execution_count": 3,
   "id": "1f872b0f-2c3c-475b-a9af-1ae6c1bb3b43",
   "metadata": {},
   "outputs": [
    {
     "data": {
      "text/plain": [
       "tensor([[1, 0, 0, 0, 0],\n",
       "        [1, 1, 0, 0, 0],\n",
       "        [1, 1, 1, 0, 0],\n",
       "        [1, 1, 1, 1, 0],\n",
       "        [1, 1, 1, 1, 1]])"
      ]
     },
     "execution_count": 3,
     "metadata": {},
     "output_type": "execute_result"
    }
   ],
   "source": [
    "torch.tril(torch.ones((5, 5), dtype=torch.long))"
   ]
  },
  {
   "cell_type": "code",
   "execution_count": null,
   "id": "162fc10b-58b4-4e7f-85f9-734869dd7df4",
   "metadata": {},
   "outputs": [],
   "source": []
  }
 ],
 "metadata": {
  "kernelspec": {
   "display_name": "BMSMT",
   "language": "python",
   "name": "bmsmt"
  },
  "language_info": {
   "codemirror_mode": {
    "name": "ipython",
    "version": 3
   },
   "file_extension": ".py",
   "mimetype": "text/x-python",
   "name": "python",
   "nbconvert_exporter": "python",
   "pygments_lexer": "ipython3",
   "version": "3.7.10"
  }
 },
 "nbformat": 4,
 "nbformat_minor": 5
}
